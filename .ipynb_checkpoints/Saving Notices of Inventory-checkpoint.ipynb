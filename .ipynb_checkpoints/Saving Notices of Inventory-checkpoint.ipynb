{
 "cells": [
  {
   "cell_type": "code",
   "execution_count": 44,
   "metadata": {},
   "outputs": [],
   "source": [
    "import pandas as pd\n",
    "import pathlib\n",
    "#import urllib.request\n",
    "import requests\n",
    "import json"
   ]
  },
  {
   "cell_type": "code",
   "execution_count": 25,
   "metadata": {},
   "outputs": [
    {
     "data": {
      "text/plain": [
       "0      https://www.federalregister.gov/documents/2020...\n",
       "1      https://www.federalregister.gov/documents/2019...\n",
       "2      https://www.federalregister.gov/documents/2019...\n",
       "3      https://www.federalregister.gov/documents/2019...\n",
       "4      https://www.federalregister.gov/documents/2019...\n",
       "                             ...                        \n",
       "995    https://www.federalregister.gov/documents/2011...\n",
       "996    https://www.federalregister.gov/documents/2011...\n",
       "997    https://www.federalregister.gov/documents/2013...\n",
       "998    https://www.federalregister.gov/documents/2013...\n",
       "999    https://www.federalregister.gov/documents/2013...\n",
       "Name: html_url, Length: 1000, dtype: object"
      ]
     },
     "execution_count": 25,
     "metadata": {},
     "output_type": "execute_result"
    }
   ],
   "source": [
    "#loading notices of inventory downloaded from federal register\n",
    "data_path = pathlib.Path.cwd() / 'fedreg_notices_of_inventory.csv'\n",
    "fed_inventories = pd.read_csv(data_path)\n",
    "fed_inventories['html_url']"
   ]
  },
  {
   "cell_type": "markdown",
   "metadata": {},
   "source": [
    "Problem: Only 1000 results included in Federal Register's dataset, although 2697 results found in search\n",
    "\n"
   ]
  },
  {
   "cell_type": "markdown",
   "metadata": {},
   "source": [
    " "
   ]
  },
  {
   "cell_type": "code",
   "execution_count": 63,
   "metadata": {},
   "outputs": [
    {
     "data": {
      "text/plain": [
       "<bound method NDFrame.head of      Publication Date                                              Title  \\\n",
       "0           12/9/2019  Sam Noble Oklahoma Museum of Natural History, ...   \n",
       "1          11/27/2019          Tennessee Valley Authority, Knoxville, TN   \n",
       "2          11/27/2019         Tennessee Valley Authority, Knoxville, TN    \n",
       "3          11/27/2019  University of California, Santa Cruz, Santa Cr...   \n",
       "4          11/27/2019    Los Angeles Pierce College, Woodland Hills, CA    \n",
       "...               ...                                                ...   \n",
       "2462         7/2/1994  Notice of Inventory Completion for Native Amer...   \n",
       "2463        2/28/1994  Inventory Completion of Native American Human ...   \n",
       "2464        2/28/1994  Inventory Completion for Native American Human...   \n",
       "2465        2/25/1994  Notice of Completion of Inventory of Native Am...   \n",
       "2466        2/25/1994  Notice of Inventory Completion of Native Ameri...   \n",
       "\n",
       "                                                   Link  \n",
       "0     https://www.federalregister.gov/documents/2019...  \n",
       "1     https://www.federalregister.gov/documents/2019...  \n",
       "2     https://www.federalregister.gov/documents/2019...  \n",
       "3     https://www.federalregister.gov/documents/2019...  \n",
       "4     https://www.federalregister.gov/documents/2019...  \n",
       "...                                                 ...  \n",
       "2462  https://www.federalregister.gov/documents/1994...  \n",
       "2463  https://www.federalregister.gov/documents/1994...  \n",
       "2464  https://www.federalregister.gov/documents/1994...  \n",
       "2465  https://www.federalregister.gov/documents/1994...  \n",
       "2466  https://www.federalregister.gov/documents/1994...  \n",
       "\n",
       "[2467 rows x 3 columns]>"
      ]
     },
     "execution_count": 63,
     "metadata": {},
     "output_type": "execute_result"
    }
   ],
   "source": [
    "#loading notices of inventory via nps json\n",
    "\n",
    "url = 'https://www.nps.gov/common/uploads/sortable_dataset/nagpra/F8663396-E1B9-7C54-8C15C08D2D0702C4/F8663396-E1B9-7C54-8C15C08D2D0702C4.json'\n",
    "response=requests.get(url)\n",
    "inventories_dict = json.loads(response.content)\n",
    "\n",
    "nps_inventories = pd.DataFrame(data= \\\n",
    "                               json.loads(response.content)['DATA'], columns=json.loads(response.content)['COLUMNS'])\n",
    "nps_inventories.head"
   ]
  }
 ],
 "metadata": {
  "kernelspec": {
   "display_name": "Python 3",
   "language": "python",
   "name": "python3"
  },
  "language_info": {
   "codemirror_mode": {
    "name": "ipython",
    "version": 3
   },
   "file_extension": ".py",
   "mimetype": "text/x-python",
   "name": "python",
   "nbconvert_exporter": "python",
   "pygments_lexer": "ipython3",
   "version": "3.7.4"
  }
 },
 "nbformat": 4,
 "nbformat_minor": 2
}
