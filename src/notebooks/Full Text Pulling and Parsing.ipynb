{
 "cells": [
  {
   "cell_type": "code",
   "execution_count": 70,
   "metadata": {},
   "outputs": [],
   "source": [
    "from bs4 import BeautifulSoup\n",
    "import pandas as pd\n",
    "import numpy as np\n",
    "import pathlib\n",
    "import requests"
   ]
  },
  {
   "cell_type": "code",
   "execution_count": 264,
   "metadata": {},
   "outputs": [],
   "source": [
    "data_path = pathlib.Path.cwd().parent.parent / 'datasets' / 'inv_urls.csv'\n",
    "inv_urls = pd.read_csv(data_path)"
   ]
  },
  {
   "cell_type": "code",
   "execution_count": 534,
   "metadata": {},
   "outputs": [
    {
     "name": "stdout",
     "output_type": "stream",
     "text": [
      "Number of documents with full-text in XML format:  2234\n",
      "Number of documents with full-text in basic text format:  233\n"
     ]
    }
   ],
   "source": [
    "xml_urls = [x for x in inv_urls.fulltext_url if 'xml' in x]\n",
    "print('Number of documents with full-text in XML format: ', len(xml_urls))\n",
    "\n",
    "basic_urls = [x for x in inv_urls.fulltext_url if 'xml' not in x]\n",
    "print('Number of documents with full-text in basic text format: ', len(basic_urls))\n"
   ]
  },
  {
   "cell_type": "code",
   "execution_count": 529,
   "metadata": {},
   "outputs": [],
   "source": [
    "def open_url (url):\n",
    "    \n",
    "    '''\n",
    "    Opens URL, returns HTML.\n",
    "    '''\n",
    "    \n",
    "    test_response=requests.get(url) #open url\n",
    "    html_page_source = str(test_response.content)[2:-1] #access html\n",
    "    return html_page_source\n",
    "\n",
    "def get_fulltext(html):\n",
    "    \n",
    "    '''\n",
    "    Takes in full-text XML file.\n",
    "    Returns full-text, in unparsed format and separated by heading.\n",
    "    '''\n",
    "    \n",
    "    soup = BeautifulSoup(html, 'xml')\n",
    "    \n",
    "    # get full text, not seperated by heading\n",
    "    # safest option, least likely to lose any info this way\n",
    "    messy_full = soup.get_text()\n",
    "    \n",
    "    #initialize all heading sections to 'Null'\n",
    "    agency1 = 'Null'\n",
    "    sub_agency1 = 'Null'\n",
    "    dep_doc = 'Null'\n",
    "    subject = 'Null'\n",
    "    agency2 = 'Null'\n",
    "    action = 'Null'\n",
    "    summary = 'Null'\n",
    "    dates = 'Null'\n",
    "    addresses = 'Null'\n",
    "    signature_dated = 'Null'\n",
    "    signature_name = 'Null'\n",
    "    signature_title = 'Null'\n",
    "    fr_doc = 'Null'\n",
    "    billing_code = 'Null'\n",
    "    supp_info = 'Null'\n",
    "    consultation = 'Null'\n",
    "    h_d_r = 'Null'\n",
    "    determinations = 'Null'\n",
    "    a_r_d = 'Null'\n",
    "    \n",
    "    if soup.find('AGENCY') != None:\n",
    "        agency1 = soup.AGENCY.get_text() # difference between agency1 and agency2?\n",
    "    if soup.find('SUBAGY') != None:\n",
    "        sub_agency1 = soup.SUBAGY.get_text()\n",
    "    if soup.find('DEPDOC')!= None:\n",
    "        dep_doc = soup.DEPDOC.get_text()\n",
    "    if soup.find('SUBJECT') != None:\n",
    "        subject = soup.SUBJECT.get_text()\n",
    "    if soup.find('AGY') != None:\n",
    "        agency2 = soup.AGY.P.get_text() # difference between agency1 and agency2?\n",
    "    if soup.find('ACT') != None:\n",
    "        action = soup.ACT.P.get_text()\n",
    "    if soup.find('SUM') != None:\n",
    "        summary = soup.SUM.P.get_text()\n",
    "    if soup.find('DATES') != None:\n",
    "        dates = soup.DATES.P.get_text()\n",
    "    if soup.find('ADD') != None:\n",
    "        addresses = soup.ADD.P.get_text()\n",
    "    if soup.find('DATED') != None:\n",
    "        signature_dated = soup.DATED.get_text() # should we strip 'Dated: ' from beginning?      \n",
    "    if soup.find('NAME') != None:\n",
    "        signature_name = soup.NAME.get_text() \n",
    "    if soup.find('TITLE') != None:\n",
    "        signature_title = soup.TITLE.get_text()\n",
    "    if soup.find('FRDOC') != None:\n",
    "        fr_doc = soup.FRDOC.get_text()\n",
    "    if soup.find('BILCOD') != None:\n",
    "        billing_code = soup.BILCOD.get_text()\n",
    "        \n",
    "    if soup.find('SUPLINF') != None:\n",
    "        supp_info_list = soup.SUPLINF.children\n",
    "        supp_info = ''\n",
    "        for i, x in enumerate(supp_info_list):\n",
    "            #get all text from headings and paragraphs\n",
    "            #this should skip newline characters and signature info\n",
    "            #may be missing important things here! should be preserved in messy_full\n",
    "            if (x.name=='HD') or (x.name=='P'):\n",
    "                supp_info+= x.get_text() + ' \\n ' # concatenate supplementary info into single string\n",
    "                                                # separate by newline character\n",
    "                                                # does not remove special characters (eg bullet points)\n",
    "    \n",
    "    #populate 4 un-nested categories\n",
    "                # 'Consultation' \n",
    "                # 'History and Description of the Remains' \n",
    "                # 'Determinations Made by __________'\n",
    "                # 'Additional Requesters and Disposition'\n",
    "    #makes potentially unsafe assumptions re format\n",
    "    #could be functionized for easier editing\n",
    "    if soup.find('HD')!=None:\n",
    "            headings = soup.find_all('HD')\n",
    "            for x in headings:\n",
    "                if 'consultation' in x.string.lower():\n",
    "                    consultation = ''\n",
    "                    after_consultation = [x for x in list(x.next_siblings) if x.name=='P' or x.name=='HD']\n",
    "                    for a in after_consultation:\n",
    "                        if a.name=='P': \n",
    "                            consultation+=a.get_text()+' \\n '\n",
    "                            continue\n",
    "                        if 'SOURCE' in a.attrs:\n",
    "                            if a['SOURCE'] == \"HD1\":\n",
    "                            #assume that \"HD1\" would mark new section\n",
    "                            #should debug this with example\n",
    "                                break\n",
    "                        consultation+=a.get_text()+' \\n '\n",
    "                        \n",
    "                if 'history and description of the remains' in x.string.lower():\n",
    "                    h_d_r = ''\n",
    "                    after_hdr = [x for x in list(x.next_siblings) if x.name=='P' or x.name=='HD']\n",
    "                    for a in after_hdr:\n",
    "                        if a.name=='P': \n",
    "                            h_d_r+=a.get_text()+' \\n '\n",
    "                            continue\n",
    "                        if 'SOURCE' in a.attrs:\n",
    "                            if a['SOURCE'] == \"HD1\":\n",
    "                            #assume that \"HD1\" would mark new section\n",
    "                            #should debug this with example\n",
    "                                break\n",
    "                        h_d_r+=a.get_text()+' \\n '\n",
    "                        \n",
    "                if 'determinations made by' in x.string.lower():\n",
    "                    determinations = x.get_text()+' \\n ' #include heading because varies based on institution\n",
    "                    after_det = [x for x in list(x.next_siblings) if x.name=='P' or x.name=='HD']\n",
    "                    for a in after_det:\n",
    "                        if a.name=='P': \n",
    "                            determinations+=a.get_text() +' \\n '\n",
    "                            continue\n",
    "                        if 'SOURCE' in a.attrs:\n",
    "                            if a['SOURCE'] == \"HD1\":\n",
    "                            #assume that \"HD1\" would mark new section\n",
    "                            #should debug this with example\n",
    "                                break\n",
    "                        determinations+=a.get_text() +' \\n '\n",
    "                        \n",
    "                if 'additional requesters and disposition' in x.string.lower() \\\n",
    "                or 'additional requestors and disposition' in x.string.lower():\n",
    "                    a_r_d = ''\n",
    "                    after_ard = [x for x in list(x.next_siblings) if x.name=='P' or x.name=='HD']\n",
    "                    for a in after_ard:\n",
    "                        if a.name=='P': \n",
    "                            a_r_d+=a.get_text()+' \\n '\n",
    "                            continue\n",
    "                        if 'SOURCE' in a.attrs:\n",
    "                            if a['SOURCE'] == \"HD1\":\n",
    "                            #assume that \"HD1\" would mark new section\n",
    "                            #should debug this with example\n",
    "                                break\n",
    "                        a_r_d+=a.get_text()+' \\n '\n",
    "                        \n",
    "    return (messy_full, agency1, sub_agency1, dep_doc, subject, \n",
    "            agency2, action, summary, dates, addresses, \n",
    "            signature_dated, signature_name, signature_title, \n",
    "            fr_doc, billing_code, supp_info, \n",
    "            consultation, h_d_r, determinations, a_r_d)\n",
    "\n",
    "def get_fulltext_from_basictext (html):\n",
    "    \n",
    "    '''\n",
    "    Should take in basic text format HTML.\n",
    "    Should return full-text, in unparsed format and separated by heading.\n",
    "    \n",
    "    May not need to separate this function. \n",
    "    get_fulltext(html) can read basic text (though it can't parse the headings)\n",
    "    Could parse later (after importation) with regex?\n",
    "    '''\n",
    "    \n",
    "    soup = BeautifulSoup(xml, 'xml')\n",
    "    return"
   ]
  },
  {
   "cell_type": "markdown",
   "metadata": {},
   "source": [
    "## Testing/Debugging"
   ]
  },
  {
   "cell_type": "code",
   "execution_count": 530,
   "metadata": {},
   "outputs": [],
   "source": [
    "html = open_url(inv_urls.fulltext_url[2400])\n",
    "\n",
    "messy_full, agency1, sub_agency1, dep_doc, subject, \\\n",
    "agency2, action, summary, dates, addresses, \\\n",
    "signature_dated, signature_name, signature_title, \\\n",
    "fr_doc, billing_code, supp_info, \\\n",
    "consultation, h_d_r, determinations, a_r_d = get_fulltext(html)"
   ]
  },
  {
   "cell_type": "code",
   "execution_count": 525,
   "metadata": {},
   "outputs": [
    {
     "data": {
      "text/plain": [
       "'https://www.govinfo.gov/content/pkg/FR-1997-08-29/html/97-23108.htm'"
      ]
     },
     "execution_count": 525,
     "metadata": {},
     "output_type": "execute_result"
    }
   ],
   "source": [
    "inv_urls.loc[2400, 'fulltext_url']"
   ]
  },
  {
   "cell_type": "code",
   "execution_count": 511,
   "metadata": {},
   "outputs": [
    {
     "data": {
      "text/plain": [
       "'https://www.federalregister.gov/documents/2019/11/08/2019-24397/notice-of-inventory-completion-arkansas-archeological-survey-fayetteville-ar-correction'"
      ]
     },
     "execution_count": 511,
     "metadata": {},
     "output_type": "execute_result"
    }
   ],
   "source": [
    "inv_urls.loc[2400, 'Link']"
   ]
  },
  {
   "cell_type": "code",
   "execution_count": 531,
   "metadata": {},
   "outputs": [
    {
     "name": "stdout",
     "output_type": "stream",
     "text": [
      "Null\n"
     ]
    }
   ],
   "source": [
    "print(action)"
   ]
  },
  {
   "cell_type": "code",
   "execution_count": 532,
   "metadata": {},
   "outputs": [
    {
     "name": "stdout",
     "output_type": "stream",
     "text": [
      "Null\n"
     ]
    }
   ],
   "source": [
    "print(subject)"
   ]
  },
  {
   "cell_type": "code",
   "execution_count": 533,
   "metadata": {},
   "outputs": [
    {
     "name": "stdout",
     "output_type": "stream",
     "text": [
      "\\n\\nFederal Register, Volume 62 Issue 168 (Friday, August 29, 1997)\\n\\n[Federal Register Volume 62, Number 168 (Friday, August 29, 1997)]\\n[Notices]\\n[Pages 45873-45874]\\nFrom the Federal Register Online via the Government Publishing Office [www.gpo.gov]\\n[FR Doc No: 97-23108]\\n\\n\\n-----------------------------------------------------------------------\\n\\nDEPARTMENT OF THE INTERIOR\\n\\nNational Park Service\\n\\n\\nNotice of Inventory Completion for Native American Human Remains, \\nAssociated Funerary Objects, and Unassociated Funerary Objects from the \\nVicinity of Cronise Basin, San Bernardino County, CA in the Possession \\nof the California State Office, Bureau of Land Management, Sacramento, \\nCA\\n\\nAGENCY: National Park Service\\n\\nACTION: Notice\\n\\n-----------------------------------------------------------------------\\n\\n    Notice is hereby given in accordance with provisions of the Native \\nAmerican Graves Protection and Repatriation Act (NAGPRA), 25 U.S.C. \\n3003 (d), of the completion of an inventory of human remains, \\nassociated funerary objects, and unassociated funerary objects from the \\nvicinity of Cronise Basin, San Bernardino County, CA in the possession \\nof the California State Office, Bureau of Land Management, Sacramento, \\nCA.\\n    A detailed assessment of the human remains was made by Bureau of \\nLand Management and San Diego Museum of Man professional staff in \\nconsultation with representatives of the San Manuel Band of Mission \\nIndians.\\n    In 1928, human remains representing three individuals were \\nrecovered from site M-2 along the shoreline of Cronise Basin, San \\nBernardino County, CA during legally authorized excavations by Malcolm \\nRogers, San Diego Museum of Man. No known individuals were identified. \\nThe 99 associated funerary objects include projectile points, a stone \\nknife, shell beads, a bone awl fragment, a bird bone whistle fragment, \\nshell pendants, pottery sherds, burnt faunal material, and burnt \\ncordage.\\n    In 1931, human remains representing five individuals were recovered \\nfrom site M-4 along the shoreline of Cronise Basin, San Bernardino \\nCounty, CA during legally authorized excavations by Malcolm Rogers, San \\nDiego Museum of Man. No known individuals were identified. The 145 \\nassociated funerary objects include flaked stone knives, projectile \\npoints, vesicular basalt abrader and smoothers, bone awls, bone \\npressure flaker, ceramic vessels and sherds, shell beads, shell \\nornaments, burnt faunal remains, cordage and net,\\n\\n[[Page 45874]]\\n\\nstone arrow shaft straightener, obsidian nodules, quartz nodule, and \\nochre.\\n    In 1932, human remains representing two individuals were recovered \\nfrom site M-5 along the shoreline of Cronise Basin, San Bernardino \\nCounty, CA during legally authorized excavations by Malcolm Rogers, San \\nDiego Museum of Man. No known individuals were identified. The six \\nassociated funerary objects include shell beads, a clam shell fragment, \\nand burnt faunal material.\\n    In 1932, human remains representing one individual were recovered \\nfrom site M-10 along the shoreline of Cronise Basin, San Bernardino \\nCounty, CA during legally authorized excavations by Malcolm Rogers, San \\nDiego Museum of Man. No known individuals were identified. The five \\nassociated funerary objects include shell beads, a biconically drilled \\nstone tube, ochre, and a projectile point.\\n    The eighteen cultural items include ceramic vessels, sherds, a bone \\ntube, shell beads, projectile points, an olivella bead, limpet shell \\nbead, and a chipped stone knife. Between 1928 and 1932, these cultural \\nitems were recovered from disturbed cremations at Cronise Basin sites \\nM-1, M-10, M-13, and M-14 during legally authorized excavations by \\nMalcomb Rogers of the San Diego Museum of Man. The human remains with \\nthese items were not collected.\\n    Based on the common occurrence of brown and buff ware ceramics, \\ntype of projectile points, and presence of shell beads from the \\nsouthern coastal California area, these human remains may be dated to \\nthe Shoshonean Period of this area, c. 1550-1650 A.D. Archeological \\nevidence indicates a clear continuity between the cultures present in \\nthis area during this period and the Serrano and Vanyume peoples \\npresent in the area at the time of European contact as noted in Spanish \\nexploration documents. Oral tradition evidence presented by \\nrepresentatives of the San Manuel Band of Mission Indians indicates \\nthis area is recognized as the ancestral homeland.\\n    Based on the above mentioned information, officials of the Bureau \\nof Land Management have determined that, pursuant to 43 CFR 10.2 \\n(d)(1), the human remains listed above represent the physical remains \\nof twelve individuals of Native American ancestry. Officials of the \\nBureau of Land Management have also determined that, pursuant to 25 \\nU.S.C. 3001 (3)(A), the 255 objects listed above are reasonably \\nbelieved to have been placed with or near individual human remains at \\nthe time of death or later as part of the death rite or ceremony. \\nOfficials of the Bureau of Land Management have determined that, \\npursuant to 25 U.S.C. 3001 (3)(B), these eighteen cultural items are \\nreasonably believed to have been placed with or near individual human \\nremains at the time of death or later as part of the death rite or \\nceremony and are believed, by a preponderance of the evidence, to have \\nbeen removed from a specific burial site of an Native American \\nindividual. Lastly, officials of the Bureau of Land Management have \\ndetermined that, pursuant to 25 U.S.C. 3001 (2), there is a \\nrelationship of shared group identity which can be reasonably traced \\nbetween these Native American human remains, associated funerary \\nobjects, and unassociated funerary objects and the San Manuel Band of \\nMission Indians.\\n    This notice has been sent to officials of the San Manuel Band of \\nMission Indians. Representatives of any other Indian tribe that \\nbelieves itself to be culturally affiliated with these human remains, \\nassociated funerary objects, and unassociated funerary objects should \\ncontact Russell Kaldenberg, Cultural Program Lead, Division of \\nEcosystems Sciences and Lands, California State Office, Bureau of Land \\nManagement, 2135 Butano Drive, Sacramento, CA 95825; telephone: (916) \\n979-2840, before September 29, 1997. Repatriation of the human remains, \\nassociated funerary objects, and unassociated funerary objects to the \\nSan Manuel Band of Mission Indians may begin after that date if no \\nadditional claimants come forward.\\nDated: August 25, 1997.\\nFrancis P. McManamon,\\nDepartmental Consulting Archeologist,\\nManager, Archeology and Ethnography Program.\\n[FR Doc. 97-23108 Filed 8-28-97; 8:45 am]\\nBILLING CODE 4310-70-F\\n\\n\\n\\n\n"
     ]
    }
   ],
   "source": [
    "print(messy_full)"
   ]
  }
 ],
 "metadata": {
  "kernelspec": {
   "display_name": "Python 3",
   "language": "python",
   "name": "python3"
  },
  "language_info": {
   "codemirror_mode": {
    "name": "ipython",
    "version": 3
   },
   "file_extension": ".py",
   "mimetype": "text/x-python",
   "name": "python",
   "nbconvert_exporter": "python",
   "pygments_lexer": "ipython3",
   "version": "3.7.4"
  }
 },
 "nbformat": 4,
 "nbformat_minor": 2
}
